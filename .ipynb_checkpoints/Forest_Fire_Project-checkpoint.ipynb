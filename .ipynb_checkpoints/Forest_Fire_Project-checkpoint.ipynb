{
 "cells": [
  {
   "cell_type": "markdown",
   "metadata": {},
   "source": [
    "## Predicting Fires in the Algerian Forest from Weather Characteristics\n",
    "### Introduction\n",
    "A forest fire is an unplanned and an uncontrollable fire which can occur by lightning or human carelessness in forests, shrublands and grasslands. The natural leading causes of forest fires are dry climate, hot temperatures, lightning and volcanic eruption. \n",
    " \n",
    "There are many factors that contribute to wildfires and thus, we pose a predictive question to determine whether or not duff moisture, drought, fire buildup, fire spread, and fire-weather index cause an increase in the likelihood of forest fires. Furthermore, by looking at these predictors, we hypothesize that an increase in the variables mentioned previously will likely increase the predictability whether or not a fire will be instigated.\n",
    " \n",
    "To support our hypothesis, we are using a dataset on Algerian Forest Fires from UCI. The dataset contains a culmination of forest fires in two regions of Algeria: the Bejaia region and the Sidi Bel-Abbes region. The timeline of this dataset was taken from June 2012 to September 2012. Specifically, we will be focusing on whether certain weather characteristics can predict forest fires in these regions.\n",
    "\n",
    "\n"
   ]
  },
  {
   "cell_type": "code",
   "execution_count": 1,
   "metadata": {},
   "outputs": [
    {
     "name": "stderr",
     "output_type": "stream",
     "text": [
      "── \u001b[1mAttaching packages\u001b[22m ─────────────────────────────────────── tidyverse 1.3.0 ──\n",
      "\n",
      "\u001b[32m✔\u001b[39m \u001b[34mggplot2\u001b[39m 3.3.2     \u001b[32m✔\u001b[39m \u001b[34mpurrr  \u001b[39m 0.3.4\n",
      "\u001b[32m✔\u001b[39m \u001b[34mtibble \u001b[39m 3.0.3     \u001b[32m✔\u001b[39m \u001b[34mdplyr  \u001b[39m 1.0.2\n",
      "\u001b[32m✔\u001b[39m \u001b[34mtidyr  \u001b[39m 1.1.2     \u001b[32m✔\u001b[39m \u001b[34mstringr\u001b[39m 1.4.0\n",
      "\u001b[32m✔\u001b[39m \u001b[34mreadr  \u001b[39m 1.3.1     \u001b[32m✔\u001b[39m \u001b[34mforcats\u001b[39m 0.5.0\n",
      "\n",
      "Warning message:\n",
      "“package ‘ggplot2’ was built under R version 4.0.1”\n",
      "Warning message:\n",
      "“package ‘tibble’ was built under R version 4.0.2”\n",
      "Warning message:\n",
      "“package ‘tidyr’ was built under R version 4.0.2”\n",
      "Warning message:\n",
      "“package ‘dplyr’ was built under R version 4.0.2”\n",
      "── \u001b[1mConflicts\u001b[22m ────────────────────────────────────────── tidyverse_conflicts() ──\n",
      "\u001b[31m✖\u001b[39m \u001b[34mdplyr\u001b[39m::\u001b[32mfilter()\u001b[39m masks \u001b[34mstats\u001b[39m::filter()\n",
      "\u001b[31m✖\u001b[39m \u001b[34mdplyr\u001b[39m::\u001b[32mlag()\u001b[39m    masks \u001b[34mstats\u001b[39m::lag()\n",
      "\n",
      "Warning message:\n",
      "“package ‘tidymodels’ was built under R version 4.0.2”\n",
      "── \u001b[1mAttaching packages\u001b[22m ────────────────────────────────────── tidymodels 0.1.1 ──\n",
      "\n",
      "\u001b[32m✔\u001b[39m \u001b[34mbroom    \u001b[39m 0.7.0      \u001b[32m✔\u001b[39m \u001b[34mrecipes  \u001b[39m 0.1.13\n",
      "\u001b[32m✔\u001b[39m \u001b[34mdials    \u001b[39m 0.0.9      \u001b[32m✔\u001b[39m \u001b[34mrsample  \u001b[39m 0.0.7 \n",
      "\u001b[32m✔\u001b[39m \u001b[34minfer    \u001b[39m 0.5.4      \u001b[32m✔\u001b[39m \u001b[34mtune     \u001b[39m 0.1.1 \n",
      "\u001b[32m✔\u001b[39m \u001b[34mmodeldata\u001b[39m 0.0.2      \u001b[32m✔\u001b[39m \u001b[34mworkflows\u001b[39m 0.2.0 \n",
      "\u001b[32m✔\u001b[39m \u001b[34mparsnip  \u001b[39m 0.1.3      \u001b[32m✔\u001b[39m \u001b[34myardstick\u001b[39m 0.0.7 \n",
      "\n",
      "Warning message:\n",
      "“package ‘broom’ was built under R version 4.0.2”\n",
      "Warning message:\n",
      "“package ‘dials’ was built under R version 4.0.2”\n",
      "Warning message:\n",
      "“package ‘infer’ was built under R version 4.0.3”\n",
      "Warning message:\n",
      "“package ‘modeldata’ was built under R version 4.0.1”\n",
      "Warning message:\n",
      "“package ‘parsnip’ was built under R version 4.0.2”\n",
      "Warning message:\n",
      "“package ‘recipes’ was built under R version 4.0.1”\n",
      "Warning message:\n",
      "“package ‘tune’ was built under R version 4.0.2”\n",
      "Warning message:\n",
      "“package ‘workflows’ was built under R version 4.0.2”\n",
      "Warning message:\n",
      "“package ‘yardstick’ was built under R version 4.0.2”\n",
      "── \u001b[1mConflicts\u001b[22m ───────────────────────────────────────── tidymodels_conflicts() ──\n",
      "\u001b[31m✖\u001b[39m \u001b[34mscales\u001b[39m::\u001b[32mdiscard()\u001b[39m masks \u001b[34mpurrr\u001b[39m::discard()\n",
      "\u001b[31m✖\u001b[39m \u001b[34mdplyr\u001b[39m::\u001b[32mfilter()\u001b[39m   masks \u001b[34mstats\u001b[39m::filter()\n",
      "\u001b[31m✖\u001b[39m \u001b[34mrecipes\u001b[39m::\u001b[32mfixed()\u001b[39m  masks \u001b[34mstringr\u001b[39m::fixed()\n",
      "\u001b[31m✖\u001b[39m \u001b[34mdplyr\u001b[39m::\u001b[32mlag()\u001b[39m      masks \u001b[34mstats\u001b[39m::lag()\n",
      "\u001b[31m✖\u001b[39m \u001b[34myardstick\u001b[39m::\u001b[32mspec()\u001b[39m masks \u001b[34mreadr\u001b[39m::spec()\n",
      "\u001b[31m✖\u001b[39m \u001b[34mrecipes\u001b[39m::\u001b[32mstep()\u001b[39m   masks \u001b[34mstats\u001b[39m::step()\n",
      "\n",
      "Registered S3 method overwritten by 'GGally':\n",
      "  method from   \n",
      "  +.gg   ggplot2\n",
      "\n"
     ]
    }
   ],
   "source": [
    "library(tidyverse)\n",
    "library(repr)\n",
    "library(tidymodels)\n",
    "library(ggplot2)\n",
    "library(GGally)\n",
    "set.seed(1)"
   ]
  },
  {
   "cell_type": "markdown",
   "metadata": {},
   "source": [
    "### Reading Data into R:"
   ]
  },
  {
   "cell_type": "code",
   "execution_count": 8,
   "metadata": {},
   "outputs": [
    {
     "name": "stderr",
     "output_type": "stream",
     "text": [
      "Parsed with column specification:\n",
      "cols(\n",
      "  day = \u001b[31mcol_character()\u001b[39m,\n",
      "  month = \u001b[31mcol_character()\u001b[39m,\n",
      "  year = \u001b[31mcol_character()\u001b[39m,\n",
      "  Temperature = \u001b[31mcol_character()\u001b[39m,\n",
      "  RH = \u001b[31mcol_character()\u001b[39m,\n",
      "  Ws = \u001b[31mcol_character()\u001b[39m,\n",
      "  Rain = \u001b[31mcol_character()\u001b[39m,\n",
      "  FFMC = \u001b[31mcol_character()\u001b[39m,\n",
      "  DMC = \u001b[31mcol_character()\u001b[39m,\n",
      "  DC = \u001b[31mcol_character()\u001b[39m,\n",
      "  ISI = \u001b[31mcol_character()\u001b[39m,\n",
      "  BUI = \u001b[31mcol_character()\u001b[39m,\n",
      "  FWI = \u001b[31mcol_character()\u001b[39m,\n",
      "  Classes = \u001b[31mcol_character()\u001b[39m\n",
      ")\n",
      "\n",
      "Warning message:\n",
      "“2 parsing failures.\n",
      "row col   expected     actual                                                                                                       file\n",
      "123  -- 14 columns 1 columns  'https://archive.ics.uci.edu/ml/machine-learning-databases/00547/Algerian_forest_fires_dataset_UPDATE.csv'\n",
      "168  -- 14 columns 13 columns 'https://archive.ics.uci.edu/ml/machine-learning-databases/00547/Algerian_forest_fires_dataset_UPDATE.csv'\n",
      "”\n"
     ]
    },
    {
     "data": {
      "text/html": [
       "<table>\n",
       "<caption>A tibble: 6 × 11</caption>\n",
       "<thead>\n",
       "\t<tr><th scope=col>Temperature</th><th scope=col>RH</th><th scope=col>Ws</th><th scope=col>Rain</th><th scope=col>FFMC</th><th scope=col>DMC</th><th scope=col>DC</th><th scope=col>ISI</th><th scope=col>BUI</th><th scope=col>FWI</th><th scope=col>Classes</th></tr>\n",
       "\t<tr><th scope=col>&lt;dbl&gt;</th><th scope=col>&lt;dbl&gt;</th><th scope=col>&lt;dbl&gt;</th><th scope=col>&lt;dbl&gt;</th><th scope=col>&lt;dbl&gt;</th><th scope=col>&lt;dbl&gt;</th><th scope=col>&lt;dbl&gt;</th><th scope=col>&lt;dbl&gt;</th><th scope=col>&lt;dbl&gt;</th><th scope=col>&lt;dbl&gt;</th><th scope=col>&lt;fct&gt;</th></tr>\n",
       "</thead>\n",
       "<tbody>\n",
       "\t<tr><td>29</td><td>57</td><td>18</td><td> 0.0</td><td>65.7</td><td>3.4</td><td> 7.6</td><td>1.3</td><td>3.4</td><td>0.5</td><td>not fire</td></tr>\n",
       "\t<tr><td>29</td><td>61</td><td>13</td><td> 1.3</td><td>64.4</td><td>4.1</td><td> 7.6</td><td>1.0</td><td>3.9</td><td>0.4</td><td>not fire</td></tr>\n",
       "\t<tr><td>26</td><td>82</td><td>22</td><td>13.1</td><td>47.1</td><td>2.5</td><td> 7.1</td><td>0.3</td><td>2.7</td><td>0.1</td><td>not fire</td></tr>\n",
       "\t<tr><td>25</td><td>89</td><td>13</td><td> 2.5</td><td>28.6</td><td>1.3</td><td> 6.9</td><td>0.0</td><td>1.7</td><td>0.0</td><td>not fire</td></tr>\n",
       "\t<tr><td>27</td><td>77</td><td>16</td><td> 0.0</td><td>64.8</td><td>3.0</td><td>14.2</td><td>1.2</td><td>3.9</td><td>0.5</td><td>not fire</td></tr>\n",
       "\t<tr><td>31</td><td>67</td><td>14</td><td> 0.0</td><td>82.6</td><td>5.8</td><td>22.2</td><td>3.1</td><td>7.0</td><td>2.5</td><td>fire    </td></tr>\n",
       "</tbody>\n",
       "</table>\n"
      ],
      "text/latex": [
       "A tibble: 6 × 11\n",
       "\\begin{tabular}{lllllllllll}\n",
       " Temperature & RH & Ws & Rain & FFMC & DMC & DC & ISI & BUI & FWI & Classes\\\\\n",
       " <dbl> & <dbl> & <dbl> & <dbl> & <dbl> & <dbl> & <dbl> & <dbl> & <dbl> & <dbl> & <fct>\\\\\n",
       "\\hline\n",
       "\t 29 & 57 & 18 &  0.0 & 65.7 & 3.4 &  7.6 & 1.3 & 3.4 & 0.5 & not fire\\\\\n",
       "\t 29 & 61 & 13 &  1.3 & 64.4 & 4.1 &  7.6 & 1.0 & 3.9 & 0.4 & not fire\\\\\n",
       "\t 26 & 82 & 22 & 13.1 & 47.1 & 2.5 &  7.1 & 0.3 & 2.7 & 0.1 & not fire\\\\\n",
       "\t 25 & 89 & 13 &  2.5 & 28.6 & 1.3 &  6.9 & 0.0 & 1.7 & 0.0 & not fire\\\\\n",
       "\t 27 & 77 & 16 &  0.0 & 64.8 & 3.0 & 14.2 & 1.2 & 3.9 & 0.5 & not fire\\\\\n",
       "\t 31 & 67 & 14 &  0.0 & 82.6 & 5.8 & 22.2 & 3.1 & 7.0 & 2.5 & fire    \\\\\n",
       "\\end{tabular}\n"
      ],
      "text/markdown": [
       "\n",
       "A tibble: 6 × 11\n",
       "\n",
       "| Temperature &lt;dbl&gt; | RH &lt;dbl&gt; | Ws &lt;dbl&gt; | Rain &lt;dbl&gt; | FFMC &lt;dbl&gt; | DMC &lt;dbl&gt; | DC &lt;dbl&gt; | ISI &lt;dbl&gt; | BUI &lt;dbl&gt; | FWI &lt;dbl&gt; | Classes &lt;fct&gt; |\n",
       "|---|---|---|---|---|---|---|---|---|---|---|\n",
       "| 29 | 57 | 18 |  0.0 | 65.7 | 3.4 |  7.6 | 1.3 | 3.4 | 0.5 | not fire |\n",
       "| 29 | 61 | 13 |  1.3 | 64.4 | 4.1 |  7.6 | 1.0 | 3.9 | 0.4 | not fire |\n",
       "| 26 | 82 | 22 | 13.1 | 47.1 | 2.5 |  7.1 | 0.3 | 2.7 | 0.1 | not fire |\n",
       "| 25 | 89 | 13 |  2.5 | 28.6 | 1.3 |  6.9 | 0.0 | 1.7 | 0.0 | not fire |\n",
       "| 27 | 77 | 16 |  0.0 | 64.8 | 3.0 | 14.2 | 1.2 | 3.9 | 0.5 | not fire |\n",
       "| 31 | 67 | 14 |  0.0 | 82.6 | 5.8 | 22.2 | 3.1 | 7.0 | 2.5 | fire     |\n",
       "\n"
      ],
      "text/plain": [
       "  Temperature RH Ws Rain FFMC DMC DC   ISI BUI FWI Classes \n",
       "1 29          57 18  0.0 65.7 3.4  7.6 1.3 3.4 0.5 not fire\n",
       "2 29          61 13  1.3 64.4 4.1  7.6 1.0 3.9 0.4 not fire\n",
       "3 26          82 22 13.1 47.1 2.5  7.1 0.3 2.7 0.1 not fire\n",
       "4 25          89 13  2.5 28.6 1.3  6.9 0.0 1.7 0.0 not fire\n",
       "5 27          77 16  0.0 64.8 3.0 14.2 1.2 3.9 0.5 not fire\n",
       "6 31          67 14  0.0 82.6 5.8 22.2 3.1 7.0 2.5 fire    "
      ]
     },
     "metadata": {},
     "output_type": "display_data"
    }
   ],
   "source": [
    "forest_fire<-read_csv('https://archive.ics.uci.edu/ml/machine-learning-databases/00547/Algerian_forest_fires_dataset_UPDATE.csv', skip=1)%>%\n",
    "    select(-day, -month, -year)%>%\n",
    "        filter(Classes!='Classes',\n",
    "                Temperature!='NA',\n",
    "                  RH!='NA',\n",
    "                  Rain!='NA',\n",
    "                    Ws!='NA',\n",
    "                   FFMC!=\"NA\",\n",
    "                   DMC!=\"NA\",\n",
    "                   DC!=\"NA\",\n",
    "                   ISI!=\"NA\",\n",
    "                   BUI!=\"NA\",\n",
    "                   FWI!=\"NA\") %>%\n",
    "    mutate(Classes=as_factor(Classes),\n",
    "        Temperature=as.numeric(Temperature),   \n",
    "        RH=as.numeric(RH),\n",
    "        Rain=as.numeric(Rain),\n",
    "        Ws=as.numeric(Ws),\n",
    "        FFMC=as.numeric(FFMC),\n",
    "        DMC=as.numeric(DMC),\n",
    "        DC=as.numeric(DC),\n",
    "        ISI=as.numeric(ISI),\n",
    "        BUI=as.numeric(BUI),\n",
    "        FWI=as.numeric(FWI)) %>%\n",
    "    head()\n",
    "\n",
    "forest_fire"
   ]
  },
  {
   "cell_type": "markdown",
   "metadata": {},
   "source": [
    "### Preliminary Exploratory Data Analysis: Summarizing Training Data"
   ]
  },
  {
   "cell_type": "code",
   "execution_count": 9,
   "metadata": {},
   "outputs": [
    {
     "data": {
      "text/html": [
       "<table>\n",
       "<caption>A tibble: 5 × 11</caption>\n",
       "<thead>\n",
       "\t<tr><th scope=col>Temperature</th><th scope=col>RH</th><th scope=col>Ws</th><th scope=col>Rain</th><th scope=col>FFMC</th><th scope=col>DMC</th><th scope=col>DC</th><th scope=col>ISI</th><th scope=col>BUI</th><th scope=col>FWI</th><th scope=col>Classes</th></tr>\n",
       "\t<tr><th scope=col>&lt;dbl&gt;</th><th scope=col>&lt;dbl&gt;</th><th scope=col>&lt;dbl&gt;</th><th scope=col>&lt;dbl&gt;</th><th scope=col>&lt;dbl&gt;</th><th scope=col>&lt;dbl&gt;</th><th scope=col>&lt;dbl&gt;</th><th scope=col>&lt;dbl&gt;</th><th scope=col>&lt;dbl&gt;</th><th scope=col>&lt;dbl&gt;</th><th scope=col>&lt;fct&gt;</th></tr>\n",
       "</thead>\n",
       "<tbody>\n",
       "\t<tr><td>29</td><td>61</td><td>13</td><td> 1.3</td><td>64.4</td><td>4.1</td><td> 7.6</td><td>1.0</td><td>3.9</td><td>0.4</td><td>not fire</td></tr>\n",
       "\t<tr><td>26</td><td>82</td><td>22</td><td>13.1</td><td>47.1</td><td>2.5</td><td> 7.1</td><td>0.3</td><td>2.7</td><td>0.1</td><td>not fire</td></tr>\n",
       "\t<tr><td>25</td><td>89</td><td>13</td><td> 2.5</td><td>28.6</td><td>1.3</td><td> 6.9</td><td>0.0</td><td>1.7</td><td>0.0</td><td>not fire</td></tr>\n",
       "\t<tr><td>27</td><td>77</td><td>16</td><td> 0.0</td><td>64.8</td><td>3.0</td><td>14.2</td><td>1.2</td><td>3.9</td><td>0.5</td><td>not fire</td></tr>\n",
       "\t<tr><td>31</td><td>67</td><td>14</td><td> 0.0</td><td>82.6</td><td>5.8</td><td>22.2</td><td>3.1</td><td>7.0</td><td>2.5</td><td>fire    </td></tr>\n",
       "</tbody>\n",
       "</table>\n"
      ],
      "text/latex": [
       "A tibble: 5 × 11\n",
       "\\begin{tabular}{lllllllllll}\n",
       " Temperature & RH & Ws & Rain & FFMC & DMC & DC & ISI & BUI & FWI & Classes\\\\\n",
       " <dbl> & <dbl> & <dbl> & <dbl> & <dbl> & <dbl> & <dbl> & <dbl> & <dbl> & <dbl> & <fct>\\\\\n",
       "\\hline\n",
       "\t 29 & 61 & 13 &  1.3 & 64.4 & 4.1 &  7.6 & 1.0 & 3.9 & 0.4 & not fire\\\\\n",
       "\t 26 & 82 & 22 & 13.1 & 47.1 & 2.5 &  7.1 & 0.3 & 2.7 & 0.1 & not fire\\\\\n",
       "\t 25 & 89 & 13 &  2.5 & 28.6 & 1.3 &  6.9 & 0.0 & 1.7 & 0.0 & not fire\\\\\n",
       "\t 27 & 77 & 16 &  0.0 & 64.8 & 3.0 & 14.2 & 1.2 & 3.9 & 0.5 & not fire\\\\\n",
       "\t 31 & 67 & 14 &  0.0 & 82.6 & 5.8 & 22.2 & 3.1 & 7.0 & 2.5 & fire    \\\\\n",
       "\\end{tabular}\n"
      ],
      "text/markdown": [
       "\n",
       "A tibble: 5 × 11\n",
       "\n",
       "| Temperature &lt;dbl&gt; | RH &lt;dbl&gt; | Ws &lt;dbl&gt; | Rain &lt;dbl&gt; | FFMC &lt;dbl&gt; | DMC &lt;dbl&gt; | DC &lt;dbl&gt; | ISI &lt;dbl&gt; | BUI &lt;dbl&gt; | FWI &lt;dbl&gt; | Classes &lt;fct&gt; |\n",
       "|---|---|---|---|---|---|---|---|---|---|---|\n",
       "| 29 | 61 | 13 |  1.3 | 64.4 | 4.1 |  7.6 | 1.0 | 3.9 | 0.4 | not fire |\n",
       "| 26 | 82 | 22 | 13.1 | 47.1 | 2.5 |  7.1 | 0.3 | 2.7 | 0.1 | not fire |\n",
       "| 25 | 89 | 13 |  2.5 | 28.6 | 1.3 |  6.9 | 0.0 | 1.7 | 0.0 | not fire |\n",
       "| 27 | 77 | 16 |  0.0 | 64.8 | 3.0 | 14.2 | 1.2 | 3.9 | 0.5 | not fire |\n",
       "| 31 | 67 | 14 |  0.0 | 82.6 | 5.8 | 22.2 | 3.1 | 7.0 | 2.5 | fire     |\n",
       "\n"
      ],
      "text/plain": [
       "  Temperature RH Ws Rain FFMC DMC DC   ISI BUI FWI Classes \n",
       "1 29          61 13  1.3 64.4 4.1  7.6 1.0 3.9 0.4 not fire\n",
       "2 26          82 22 13.1 47.1 2.5  7.1 0.3 2.7 0.1 not fire\n",
       "3 25          89 13  2.5 28.6 1.3  6.9 0.0 1.7 0.0 not fire\n",
       "4 27          77 16  0.0 64.8 3.0 14.2 1.2 3.9 0.5 not fire\n",
       "5 31          67 14  0.0 82.6 5.8 22.2 3.1 7.0 2.5 fire    "
      ]
     },
     "metadata": {},
     "output_type": "display_data"
    }
   ],
   "source": [
    "forest_fire_split<- initial_split(forest_fire, pop= 0.75, strata= Classes)\n",
    "forest_fire_train<-training(forest_fire_split)\n",
    "forest_fire_test<-training(forest_fire_split)\n",
    "\n",
    "forest_fire_train"
   ]
  },
  {
   "cell_type": "markdown",
   "metadata": {},
   "source": [
    "The prop is set to 75% as the orignal dataset is assessed be small (249 entries). By proping to 75%, we will be able to give the training set more samples of the data, which will result in yielding more accurate outcomes for our test dataset."
   ]
  },
  {
   "cell_type": "code",
   "execution_count": 10,
   "metadata": {},
   "outputs": [
    {
     "name": "stderr",
     "output_type": "stream",
     "text": [
      "`summarise()` ungrouping output (override with `.groups` argument)\n",
      "\n"
     ]
    },
    {
     "data": {
      "text/html": [
       "<table>\n",
       "<caption>A tibble: 2 × 7</caption>\n",
       "<thead>\n",
       "\t<tr><th scope=col>Classes</th><th scope=col>number_of_instances</th><th scope=col>avg_DMC</th><th scope=col>avg_DC</th><th scope=col>avg_ISI</th><th scope=col>avg_BUI</th><th scope=col>avg_FWI</th></tr>\n",
       "\t<tr><th scope=col>&lt;fct&gt;</th><th scope=col>&lt;int&gt;</th><th scope=col>&lt;dbl&gt;</th><th scope=col>&lt;dbl&gt;</th><th scope=col>&lt;dbl&gt;</th><th scope=col>&lt;dbl&gt;</th><th scope=col>&lt;dbl&gt;</th></tr>\n",
       "</thead>\n",
       "<tbody>\n",
       "\t<tr><td>not fire</td><td>4</td><td>2.725</td><td> 8.95</td><td>0.625</td><td>3.05</td><td>0.25</td></tr>\n",
       "\t<tr><td>fire    </td><td>1</td><td>5.800</td><td>22.20</td><td>3.100</td><td>7.00</td><td>2.50</td></tr>\n",
       "</tbody>\n",
       "</table>\n"
      ],
      "text/latex": [
       "A tibble: 2 × 7\n",
       "\\begin{tabular}{lllllll}\n",
       " Classes & number\\_of\\_instances & avg\\_DMC & avg\\_DC & avg\\_ISI & avg\\_BUI & avg\\_FWI\\\\\n",
       " <fct> & <int> & <dbl> & <dbl> & <dbl> & <dbl> & <dbl>\\\\\n",
       "\\hline\n",
       "\t not fire & 4 & 2.725 &  8.95 & 0.625 & 3.05 & 0.25\\\\\n",
       "\t fire     & 1 & 5.800 & 22.20 & 3.100 & 7.00 & 2.50\\\\\n",
       "\\end{tabular}\n"
      ],
      "text/markdown": [
       "\n",
       "A tibble: 2 × 7\n",
       "\n",
       "| Classes &lt;fct&gt; | number_of_instances &lt;int&gt; | avg_DMC &lt;dbl&gt; | avg_DC &lt;dbl&gt; | avg_ISI &lt;dbl&gt; | avg_BUI &lt;dbl&gt; | avg_FWI &lt;dbl&gt; |\n",
       "|---|---|---|---|---|---|---|\n",
       "| not fire | 4 | 2.725 |  8.95 | 0.625 | 3.05 | 0.25 |\n",
       "| fire     | 1 | 5.800 | 22.20 | 3.100 | 7.00 | 2.50 |\n",
       "\n"
      ],
      "text/plain": [
       "  Classes  number_of_instances avg_DMC avg_DC avg_ISI avg_BUI avg_FWI\n",
       "1 not fire 4                   2.725    8.95  0.625   3.05    0.25   \n",
       "2 fire     1                   5.800   22.20  3.100   7.00    2.50   "
      ]
     },
     "metadata": {},
     "output_type": "display_data"
    }
   ],
   "source": [
    "ff_summary <- forest_fire_train %>%\n",
    "    select(DMC, DC, ISI, BUI, FWI, Classes) %>%\n",
    "    group_by(Classes) %>%\n",
    "    summarize(number_of_instances=n(),\n",
    "              avg_DMC = mean(DMC),\n",
    "              avg_DC = mean(DC),\n",
    "              avg_ISI = mean(ISI),\n",
    "              avg_BUI = mean(BUI),\n",
    "              avg_FWI = mean(FWI)\n",
    "             )\n",
    "ff_summary"
   ]
  },
  {
   "cell_type": "markdown",
   "metadata": {},
   "source": [
    "###  Preliminary Exploratory Data Analysis: Visualizing Training Data "
   ]
  },
  {
   "cell_type": "code",
   "execution_count": null,
   "metadata": {},
   "outputs": [
    {
     "name": "stderr",
     "output_type": "stream",
     "text": [
      "Warning message:\n",
      "“Groups with fewer than two data points have been dropped.”\n",
      "Warning message in max(ids, na.rm = TRUE):\n",
      "“no non-missing arguments to max; returning -Inf”\n",
      "Warning message:\n",
      "“Groups with fewer than two data points have been dropped.”\n",
      "Warning message in max(ids, na.rm = TRUE):\n",
      "“no non-missing arguments to max; returning -Inf”\n",
      "Warning message:\n",
      "“Groups with fewer than two data points have been dropped.”\n",
      "Warning message in max(ids, na.rm = TRUE):\n",
      "“no non-missing arguments to max; returning -Inf”\n",
      "Warning message:\n",
      "“Groups with fewer than two data points have been dropped.”\n",
      "Warning message in max(ids, na.rm = TRUE):\n",
      "“no non-missing arguments to max; returning -Inf”\n",
      "Warning message:\n",
      "“Groups with fewer than two data points have been dropped.”\n",
      "Warning message in max(ids, na.rm = TRUE):\n",
      "“no non-missing arguments to max; returning -Inf”\n"
     ]
    }
   ],
   "source": [
    "options(repr.plot.width=50, repr.plot.height=50)\n",
    "forest_fire_graph <- forest_fire_train %>%\n",
    "    ggpairs(columns =c('Temperature', 'RH','Ws','Rain','FFMC','DMC','DC','ISI','BUI','FWI'),\n",
    "            columnLabels=c('Temperature (°C)', 'Relative Humidity (%)','Wind Speed (km/hr)', 'Rain (mm)','Fine Fuel Moisture Code','Duff Moisture Code',\n",
    "                           'Drought Code','Initial Spread Index', 'Buildup Index','Fire Weather Index'),\n",
    "            legend=1,\n",
    "           aes(color=Classes))+\n",
    "    theme(text=element_text(size=36))\n",
    "\n",
    "\n",
    "forest_fire_graph\n"
   ]
  },
  {
   "cell_type": "markdown",
   "metadata": {},
   "source": [
    "### Methods\n",
    "\n",
    "Based on the graph, the variables with the strong correlation found in our initial exploratory graph will be chosen.  The following varaibles are:\n",
    "- Duff Moisture Code `DMC`  from 1.1 to 65.9  \n",
    "- Drought Code `DC`  from 7 to 220.4  \n",
    "- Initial Spread Index `ISI`  from 0 to 18.5  \n",
    "- Buildup Index `BUI`  from 1.1 to 68  \n",
    "- Fire Weather Index `FWI`  from 0 to 31.1\n",
    "\n",
    "\n",
    "This data analysis will be conducted with the classification method. The chosen variables will determine if an instance of potential fire will be classified as `fire` or `not fire` to determine whether a fire was present.\n",
    "\n",
    "\n",
    "Our data analysis will be conducted in two main steps: Finding the K value  through fold cross valiadation and then computing the accuracy of our prediction. The 5 fold cross validation will be chosen based on computational capability. Furthermore, the 5 fold validation will be passed in tuning in order to allows us to chose the optimal K to utilize. \n",
    "\n",
    "Finally using our K, we will predict our trained data through a classification workflow and then compute the accuracy of the prediction. The results of accuracy will be visualized through the form of a bar graph showing the percentages of correct predictions per predictor. \n",
    "\n",
    "\n",
    "\n"
   ]
  },
  {
   "cell_type": "markdown",
   "metadata": {},
   "source": [
    "### Expected Outcomes and Significance:\n",
    "\n",
    "We expect to find that the predictors we have indicated will allow us to infer where forest fires may occur in Algeria. These findings could lead to increased knowledge and proactivity in stopping forest fires that may occur in areas with similar predictor values to regions that have experienced forest fires. A future question that may arise from this proposal would be determining which predictor variable would most greatly influence the likelihood of forest fires.\n",
    "\n"
   ]
  },
  {
   "cell_type": "code",
   "execution_count": null,
   "metadata": {},
   "outputs": [],
   "source": [
    "# Step 1. Find the KNN \n",
    "#Step 2. predic the data with test"
   ]
  },
  {
   "cell_type": "markdown",
   "metadata": {},
   "source": [
    "I am doing vfold right now "
   ]
  },
  {
   "cell_type": "code",
   "execution_count": null,
   "metadata": {},
   "outputs": [],
   "source": [
    "put vfold code here "
   ]
  },
  {
   "cell_type": "code",
   "execution_count": null,
   "metadata": {},
   "outputs": [],
   "source": []
  }
 ],
 "metadata": {
  "kernelspec": {
   "display_name": "R",
   "language": "R",
   "name": "ir"
  },
  "language_info": {
   "codemirror_mode": "r",
   "file_extension": ".r",
   "mimetype": "text/x-r-source",
   "name": "R",
   "pygments_lexer": "r",
   "version": "4.0.0"
  }
 },
 "nbformat": 4,
 "nbformat_minor": 4
}
